{
 "cells": [
  {
   "cell_type": "code",
   "execution_count": 36,
   "id": "veterinary-permission",
   "metadata": {},
   "outputs": [],
   "source": [
    "from auction_scraper.scrapers.catawiki import scraper\n",
    "import json"
   ]
  },
  {
   "cell_type": "code",
   "execution_count": 26,
   "id": "orange-discovery",
   "metadata": {},
   "outputs": [],
   "source": [
    "cwas = scraper.CataWikiAuctionScraper"
   ]
  },
  {
   "cell_type": "code",
   "execution_count": 27,
   "id": "metric-poetry",
   "metadata": {},
   "outputs": [],
   "source": [
    "uri = \"https://www.catawiki.com/l/45312951-netherlands-rare-ww2-report-about-german-bombardment-rotterdam-written-by-m-a-de-jong-old-counselor-of-rotterdam-1940\""
   ]
  },
  {
   "cell_type": "code",
   "execution_count": 32,
   "id": "central-highway",
   "metadata": {},
   "outputs": [],
   "source": [
    "cwas.cooldown = 0"
   ]
  },
  {
   "cell_type": "code",
   "execution_count": 239,
   "id": "formal-insulin",
   "metadata": {
    "scrolled": false
   },
   "outputs": [],
   "source": [
    "soup = cwas._get_page(cwas, uri)"
   ]
  },
  {
   "cell_type": "code",
   "execution_count": 240,
   "id": "negative-sullivan",
   "metadata": {
    "scrolled": true
   },
   "outputs": [],
   "source": [
    "json_div_attrs = {\"class\": \"lot-details-page-wrapper\"}\n",
    "data_json = soup.find(\"div\", attrs=json_div_attrs)#['data-props']\n",
    "# data = json.loads(data_json)"
   ]
  },
  {
   "cell_type": "code",
   "execution_count": 253,
   "id": "still-dictionary",
   "metadata": {},
   "outputs": [],
   "source": [
    "json_script_attrs = {\"type\": \"application/ld+json\"}\n",
    "breadcrumblist_data_json = soup.find(\"script\", attrs=json_script_attrs).string\n",
    "breadcrumblist = json.loads(breadcrumblist_data_json)"
   ]
  },
  {
   "cell_type": "code",
   "execution_count": 254,
   "id": "japanese-employer",
   "metadata": {},
   "outputs": [
    {
     "data": {
      "text/plain": [
       "{'@context': 'http://schema.org/',\n",
       " '@type': 'BreadcrumbList',\n",
       " 'itemListElement': [{'@type': 'ListItem',\n",
       "   'position': 1,\n",
       "   'item': {'@type': 'Thing',\n",
       "    '@id': 'https://www.catawiki.com/',\n",
       "    'name': 'Catawiki'}},\n",
       "  {'@type': 'ListItem',\n",
       "   'position': 2,\n",
       "   'item': {'@type': 'Thing',\n",
       "    '@id': 'https://www.catawiki.com/c/1099-militaria-weaponry',\n",
       "    'name': 'Militaria & Weaponry'}},\n",
       "  {'@type': 'ListItem',\n",
       "   'position': 3,\n",
       "   'item': {'@type': 'Thing',\n",
       "    '@id': 'https://www.catawiki.com/c/717-militaria',\n",
       "    'name': 'Militaria'}},\n",
       "  {'@type': 'ListItem',\n",
       "   'position': 4,\n",
       "   'item': {'@type': 'Thing',\n",
       "    '@id': 'https://www.catawiki.com/a/442709-militaria-auction-books-1919-1945',\n",
       "    'name': 'Militaria Auction (Books 1919-1945)'}}]}"
      ]
     },
     "execution_count": 254,
     "metadata": {},
     "output_type": "execute_result"
    }
   ],
   "source": [
    "breadcrumblist"
   ]
  },
  {
   "cell_type": "code",
   "execution_count": 255,
   "id": "naval-toddler",
   "metadata": {},
   "outputs": [
    {
     "data": {
      "text/plain": [
       "[{'@type': 'ListItem',\n",
       "  'position': 1,\n",
       "  'item': {'@type': 'Thing',\n",
       "   '@id': 'https://www.catawiki.com/',\n",
       "   'name': 'Catawiki'}},\n",
       " {'@type': 'ListItem',\n",
       "  'position': 2,\n",
       "  'item': {'@type': 'Thing',\n",
       "   '@id': 'https://www.catawiki.com/c/1099-militaria-weaponry',\n",
       "   'name': 'Militaria & Weaponry'}},\n",
       " {'@type': 'ListItem',\n",
       "  'position': 3,\n",
       "  'item': {'@type': 'Thing',\n",
       "   '@id': 'https://www.catawiki.com/c/717-militaria',\n",
       "   'name': 'Militaria'}},\n",
       " {'@type': 'ListItem',\n",
       "  'position': 4,\n",
       "  'item': {'@type': 'Thing',\n",
       "   '@id': 'https://www.catawiki.com/a/442709-militaria-auction-books-1919-1945',\n",
       "   'name': 'Militaria Auction (Books 1919-1945)'}}]"
      ]
     },
     "execution_count": 255,
     "metadata": {},
     "output_type": "execute_result"
    }
   ],
   "source": [
    "breadcrumblist['itemListElement']"
   ]
  },
  {
   "cell_type": "code",
   "execution_count": 199,
   "id": "loose-amino",
   "metadata": {},
   "outputs": [
    {
     "data": {
      "text/plain": [
       "{'@context': 'http://schema.org/',\n",
       " '@type': 'BreadcrumbList',\n",
       " 'itemListElement': [{'@type': 'ListItem',\n",
       "   'position': 1,\n",
       "   'item': {'@type': 'Thing',\n",
       "    '@id': 'https://www.catawiki.com/',\n",
       "    'name': 'Catawiki'}},\n",
       "  {'@type': 'ListItem',\n",
       "   'position': 2,\n",
       "   'item': {'@type': 'Thing',\n",
       "    '@id': 'https://www.catawiki.com/c/1099-militaria-weaponry',\n",
       "    'name': 'Militaria & Weaponry'}},\n",
       "  {'@type': 'ListItem',\n",
       "   'position': 3,\n",
       "   'item': {'@type': 'Thing',\n",
       "    '@id': 'https://www.catawiki.com/c/717-militaria',\n",
       "    'name': 'Militaria'}},\n",
       "  {'@type': 'ListItem',\n",
       "   'position': 4,\n",
       "   'item': {'@type': 'Thing',\n",
       "    '@id': 'https://www.catawiki.com/a/442709-militaria-auction-books-1919-1945',\n",
       "    'name': 'Militaria Auction (Books 1919-1945)'}}]}"
      ]
     },
     "execution_count": 199,
     "metadata": {},
     "output_type": "execute_result"
    }
   ],
   "source": [
    "json.loads(categories_data_json.contents[0])"
   ]
  },
  {
   "cell_type": "code",
   "execution_count": 237,
   "id": "appreciated-olympus",
   "metadata": {},
   "outputs": [],
   "source": [
    "soup.find('script', type='application/ld+json')"
   ]
  },
  {
   "cell_type": "code",
   "execution_count": 238,
   "id": "proud-helena",
   "metadata": {},
   "outputs": [
    {
     "data": {
      "text/plain": [
       "[<script>document.documentElement.className += ' has-js';</script>,\n",
       " <script>dataLayer = [{\"ContentGroup\":\"Auctions\",\"PageType\":\"ProductPage\",\"ThemedOrRegularAuction\":\"Themed\",\"auction_type_family_id\":75,\"auction_type_family_name\":\"Militaria \\u0026 Antique Weaponry auctions\",\"auction_id\":442709,\"auction_theme_id\":1345,\"auction_type_id\":233,\"auction_best_name\":\"Militaria Auction (Books 1919-1945)\",\"criteo_page_type\":\"ProductPage\",\"auction_name\":\"Militaria Auction (Books 1919-1945)\",\"BiddingEndTime\":\"2021-02-21T19:00:00.000Z\",\"BiddingStartTime\":\"2021-02-12T11:00:10.000Z\",\"lot_id\":45312951,\"product_id\":45312951,\"promo_lot_ids\":45312951,\"lot_state\":\"bidding_started\",\"opportunity_lot\":null,\"auction_group_id\":null,\"auction_group_en\":null,\"auction_group\":null,\"auction_theme\":null,\"category_L2_id\":233,\"category_L2_name\":\"Militaria (1919-1945)\",\"category_L1_id\":717,\"category_L1_name\":\"Militaria\",\"category_L0_id\":1099,\"category_L0_name\":\"Militaria \\u0026 Weaponry\"}];</script>,\n",
       " <script>\n",
       "  (function(w,d,s,l,i){w[l]=w[l]||[];w[l].push({'gtm.start':\n",
       "  new Date().getTime(),event:'gtm.js'});var f=d.getElementsByTagName(s)[0],\n",
       "  j=d.createElement(s),dl=l!='dataLayer'?'&l='+l:'';j.async=true;j.src=\n",
       "  '//www.googletagmanager.com/gtm.js?id='+i+dl;f.parentNode.insertBefore(j,f);\n",
       "  })(window,document,'script','dataLayer',\"GTM-N3WK28\");\n",
       " </script>,\n",
       " <script>\n",
       "   //<![CDATA[\n",
       "   (function() {\n",
       "     var uz = document.createElement('script'); uz.type = 'text/javascript'; uz.async = true; uz.charset = 'utf-8';\n",
       "     uz.src = ('https:' == document.location.protocol ? 'https://' : 'http://') + 'cdn4.userzoom.com/files/js/QzExNzdUMSAg.js?t=uz_til&cuid=935218C60ECEE411B0190022196C2B88';\n",
       "     var s = document.getElementsByTagName('script')[0]; s.parentNode.insertBefore(uz, s);\n",
       "   })();\n",
       "   //]]\n",
       " </script>,\n",
       " <script>\n",
       "   window.CW_ENVIRONMENT = {\n",
       "     STAGE: \"production\",\n",
       "     TALKJS_APP_ID: \"vXyldbUl\",\n",
       "     TALKJS_APP_SIGNATURE_KEY: \"\",\n",
       "     FACEBOOK_PIXEL_ID: \"\",\n",
       "   };\n",
       " </script>,\n",
       " <script>\n",
       "  window.AB={test:function(){return \"A\";},conversion:function(){}};\n",
       " </script>,\n",
       " <script src=\"/ab/s.js\" type=\"text/javascript\"></script>,\n",
       " <script crossorigin=\"anonymous\" src=\"//cdn.catawiki.net/assets/shared-assets/ui/v2/application-91deadd4c680ff151a9844d83fbf58f72ed4f8bac27aa81632b135f3572af9b3.js\"></script>,\n",
       " <script crossorigin=\"anonymous\" src=\"//cdn.catawiki.net/assets/shared-assets/ui/v2/webpack/runtime.f7b8c941d4efe0451611.bundle.js\"></script>,\n",
       " <script crossorigin=\"anonymous\" src=\"//cdn.catawiki.net/assets/shared-assets/ui/v2/webpack/js/vendor-ae08d64b63ad4d3f8cb2.chunk.js\"></script>,\n",
       " <script crossorigin=\"anonymous\" src=\"//cdn.catawiki.net/assets/shared-assets/ui/v2/webpack/js/msHeader-210369801a81da6e4d64.chunk.js\"></script>,\n",
       " <script async=\"async\" src=\"//cdn.catawiki.net/assets/shared-assets/ui/v2/services/cookie-refresh-6464a1ae34f419f6a4ab3b0d0fa30d825d29f1e2830850ec596e363e90726b2c.js\"></script>,\n",
       " <script>\n",
       "   window.__TELEMETRY={\"app\":\"buyer\",\"stage\":\"production\",\"url\":\"https://metrics.catawiki.net/api/ui/metrics\",\"app_component\":\"lots/show\"}\n",
       " </script>,\n",
       " <script crossorigin=\"anonymous\" src=\"//cdn.catawiki.net/assets/buyer/ui/v2/application-dadd82226d3b363483f0ba57d9dd570c2191b52e7605eb2e1fe4133f3d03951c.js\"></script>,\n",
       " <script crossorigin=\"anonymous\" src=\"//cdn.catawiki.net/assets/buyer/ui/v2/i18n/translations/en-90188461967f1bd857bb9efec2c21d11078155084a549485fb3c3bae07422fe3.js\"></script>,\n",
       " <script crossorigin=\"anonymous\" src=\"//cdn.catawiki.net/assets/buyer/ui/v2/webpack/js/runtime-b20e885f0c23c8252453.js\"></script>,\n",
       " <script crossorigin=\"anonymous\" src=\"//cdn.catawiki.net/assets/buyer/ui/v2/webpack/js/vendor-66fd6c6a2dbc390b5f13.chunk.js\"></script>,\n",
       " <script crossorigin=\"anonymous\" src=\"//cdn.catawiki.net/assets/buyer/ui/v2/webpack/js/lotDetails-b78ef4fc9927e57a1222.chunk.js\"></script>]"
      ]
     },
     "execution_count": 238,
     "metadata": {},
     "output_type": "execute_result"
    }
   ],
   "source": [
    "soup.find_all(\"script\")"
   ]
  },
  {
   "cell_type": "code",
   "execution_count": 115,
   "id": "detected-northwest",
   "metadata": {
    "scrolled": true
   },
   "outputs": [
    {
     "ename": "TypeError",
     "evalue": "the JSON object must be str, bytes or bytearray, not ResultSet",
     "output_type": "error",
     "traceback": [
      "\u001b[0;31m---------------------------------------------------------------------------\u001b[0m",
      "\u001b[0;31mTypeError\u001b[0m                                 Traceback (most recent call last)",
      "\u001b[0;32m<ipython-input-115-f1e66301b9b9>\u001b[0m in \u001b[0;36m<module>\u001b[0;34m\u001b[0m\n\u001b[1;32m      1\u001b[0m \u001b[0mjson_a_attrs\u001b[0m \u001b[0;34m=\u001b[0m \u001b[0;34m{\u001b[0m\u001b[0;34m\"class\"\u001b[0m\u001b[0;34m:\u001b[0m \u001b[0;34m\"c-breadcrumbs__item\"\u001b[0m\u001b[0;34m}\u001b[0m\u001b[0;34m\u001b[0m\u001b[0;34m\u001b[0m\u001b[0m\n\u001b[1;32m      2\u001b[0m \u001b[0mcategories_data_json\u001b[0m \u001b[0;34m=\u001b[0m \u001b[0msoup\u001b[0m\u001b[0;34m.\u001b[0m\u001b[0mfind_all\u001b[0m\u001b[0;34m(\u001b[0m\u001b[0;34m\"a\"\u001b[0m\u001b[0;34m,\u001b[0m \u001b[0mattrs\u001b[0m\u001b[0;34m=\u001b[0m\u001b[0mjson_nav_attrs\u001b[0m\u001b[0;34m)\u001b[0m\u001b[0;34m\u001b[0m\u001b[0;34m\u001b[0m\u001b[0m\n\u001b[0;32m----> 3\u001b[0;31m \u001b[0mcategories\u001b[0m \u001b[0;34m=\u001b[0m \u001b[0mjson\u001b[0m\u001b[0;34m.\u001b[0m\u001b[0mloads\u001b[0m\u001b[0;34m(\u001b[0m\u001b[0mcategories_data_json\u001b[0m\u001b[0;34m)\u001b[0m\u001b[0;34m\u001b[0m\u001b[0;34m\u001b[0m\u001b[0m\n\u001b[0m",
      "\u001b[0;32m/usr/lib/python3.8/json/__init__.py\u001b[0m in \u001b[0;36mloads\u001b[0;34m(s, cls, object_hook, parse_float, parse_int, parse_constant, object_pairs_hook, **kw)\u001b[0m\n\u001b[1;32m    339\u001b[0m     \u001b[0;32melse\u001b[0m\u001b[0;34m:\u001b[0m\u001b[0;34m\u001b[0m\u001b[0;34m\u001b[0m\u001b[0m\n\u001b[1;32m    340\u001b[0m         \u001b[0;32mif\u001b[0m \u001b[0;32mnot\u001b[0m \u001b[0misinstance\u001b[0m\u001b[0;34m(\u001b[0m\u001b[0ms\u001b[0m\u001b[0;34m,\u001b[0m \u001b[0;34m(\u001b[0m\u001b[0mbytes\u001b[0m\u001b[0;34m,\u001b[0m \u001b[0mbytearray\u001b[0m\u001b[0;34m)\u001b[0m\u001b[0;34m)\u001b[0m\u001b[0;34m:\u001b[0m\u001b[0;34m\u001b[0m\u001b[0;34m\u001b[0m\u001b[0m\n\u001b[0;32m--> 341\u001b[0;31m             raise TypeError(f'the JSON object must be str, bytes or bytearray, '\n\u001b[0m\u001b[1;32m    342\u001b[0m                             f'not {s.__class__.__name__}')\n\u001b[1;32m    343\u001b[0m         \u001b[0ms\u001b[0m \u001b[0;34m=\u001b[0m \u001b[0ms\u001b[0m\u001b[0;34m.\u001b[0m\u001b[0mdecode\u001b[0m\u001b[0;34m(\u001b[0m\u001b[0mdetect_encoding\u001b[0m\u001b[0;34m(\u001b[0m\u001b[0ms\u001b[0m\u001b[0;34m)\u001b[0m\u001b[0;34m,\u001b[0m \u001b[0;34m'surrogatepass'\u001b[0m\u001b[0;34m)\u001b[0m\u001b[0;34m\u001b[0m\u001b[0;34m\u001b[0m\u001b[0m\n",
      "\u001b[0;31mTypeError\u001b[0m: the JSON object must be str, bytes or bytearray, not ResultSet"
     ]
    }
   ],
   "source": [
    "json_a_attrs = {\"class\": \"c-breadcrumbs__item\"}\n",
    "categories_data_list = soup.find_all(\"a\", attrs=json_nav_attrs)\n",
    "categories = json.loads(categories_data_json)"
   ]
  },
  {
   "cell_type": "code",
   "execution_count": 141,
   "id": "large-institution",
   "metadata": {},
   "outputs": [
    {
     "data": {
      "text/plain": [
       "{'level_0': 'Catawiki',\n",
       " 'level_1': 'Militaria & Weaponry',\n",
       " 'level_2': 'Militaria',\n",
       " 'level_3': 'Militaria Auction (Books 1919-1945)'}"
      ]
     },
     "execution_count": 141,
     "metadata": {},
     "output_type": "execute_result"
    }
   ],
   "source": [
    "dict(('level_' + str(i), crumb.text.strip()) for i, crumb in enumerate(categories_data_json))"
   ]
  },
  {
   "cell_type": "code",
   "execution_count": 146,
   "id": "infrared-world",
   "metadata": {},
   "outputs": [
    {
     "data": {
      "text/plain": [
       "dict_keys(['lotId', 'lotTitle', 'lotSubtitle', 'description', 'autoTranslatedDescription', 'disclaimers', 'sellerInfo', 'specifications', 'images', 'favoriteCount', 'experts', 'flagUrl', 'feedbacks', 'hasExplicitContent', 'expertsEstimate', 'isMessagingSupportedCategory', 'auctionId', 'category', 'ageCheckRequired', 'charity', 'brandVersion2'])"
      ]
     },
     "execution_count": 146,
     "metadata": {},
     "output_type": "execute_result"
    }
   ],
   "source": [
    "data.keys()"
   ]
  },
  {
   "cell_type": "code",
   "execution_count": 130,
   "id": "drawn-taste",
   "metadata": {},
   "outputs": [
    {
     "name": "stdout",
     "output_type": "stream",
     "text": [
      "<a class=\"c-breadcrumbs__item false\" data-event-label=\"https://www.catawiki.com/\" data-track-on-click=\"\" href=\"https://www.catawiki.com/\">\n",
      "Catawiki\n",
      "</a>\n",
      "<a class=\"c-breadcrumbs__item false\" data-event-label=\"https://www.catawiki.com/c/1099-militaria-weaponry\" data-track-on-click=\"\" href=\"https://www.catawiki.com/c/1099-militaria-weaponry\">\n",
      "Militaria &amp; Weaponry\n",
      "</a>\n",
      "<a class=\"c-breadcrumbs__item false\" data-event-label=\"https://www.catawiki.com/c/717-militaria\" data-track-on-click=\"\" href=\"https://www.catawiki.com/c/717-militaria\">\n",
      "Militaria\n",
      "</a>\n",
      "<a class=\"c-breadcrumbs__item c-breadcrumbs__item--last\" data-event-label=\"https://www.catawiki.com/a/442709-militaria-auction-books-1919-1945\" data-track-on-click=\"\" href=\"https://www.catawiki.com/a/442709-militaria-auction-books-1919-1945\">\n",
      "Militaria Auction (Books 1919-1945)\n",
      "</a>\n"
     ]
    }
   ],
   "source": [
    "for crumb in categories_data_json:\n",
    "    print(crumb.)\n",
    "#     json.loads(crumb)\n",
    "#     print(crumb.get_text().strip())"
   ]
  },
  {
   "cell_type": "code",
   "execution_count": 139,
   "id": "dress-hypothetical",
   "metadata": {},
   "outputs": [],
   "source": [
    "bidding = cwas._get_json(cwas, cwas.base_bidding_api_uri.format(\"45312951\"))"
   ]
  },
  {
   "cell_type": "code",
   "execution_count": 258,
   "id": "parallel-forestry",
   "metadata": {},
   "outputs": [
    {
     "data": {
      "text/plain": [
       "{'start_bid_amount': 1,\n",
       " 'current_bid_amount': 23.0,\n",
       " 'min_bid_amount': 28,\n",
       " 'auto_bid_amount': None,\n",
       " 'active_autobid_bidder_token': None,\n",
       " 'reserve_price_met': None,\n",
       " 'closed': False,\n",
       " 'bidding_start_time': '2021-02-12T11:00:00Z',\n",
       " 'bidding_end_time': '2021-02-21T19:24:12Z',\n",
       " 'highest_bidder_token': 'a62afd14fcc88e47b64806f335bf964f354ed48e',\n",
       " 'quick_bids': [28, 30, 33],\n",
       " 'close_to_reserve_price': False,\n",
       " 'estimate_currency_rate': None,\n",
       " 'sold': True}"
      ]
     },
     "execution_count": 258,
     "metadata": {},
     "output_type": "execute_result"
    }
   ],
   "source": [
    "bidding['bidding']"
   ]
  },
  {
   "cell_type": "code",
   "execution_count": 134,
   "id": "religious-sympathy",
   "metadata": {},
   "outputs": [
    {
     "data": {
      "text/plain": [
       "{'level_0': 'Catawiki',\n",
       " 'level_1': 'Militaria & Weaponry',\n",
       " 'level_2': 'Militaria',\n",
       " 'level_3': 'Militaria Auction (Books 1919-1945)'}"
      ]
     },
     "execution_count": 134,
     "metadata": {},
     "output_type": "execute_result"
    }
   ],
   "source": [
    "dict(('level_' + str(i), crumb.text.strip()) for i, crumb in enumerate(categories_data_json))"
   ]
  },
  {
   "cell_type": "code",
   "execution_count": null,
   "id": "impaired-contribution",
   "metadata": {},
   "outputs": [],
   "source": [
    "data = json.loads(nav_data_json)"
   ]
  },
  {
   "cell_type": "code",
   "execution_count": 133,
   "id": "differential-customs",
   "metadata": {
    "scrolled": false
   },
   "outputs": [
    {
     "data": {
      "text/plain": [
       "{'Type': 'Written by M.A. de Jong, old counselor of Rotterdam.',\n",
       " 'Country of Origin': 'Netherlands',\n",
       " 'Army Unit': 'Rare WW2 Report about German bombardment Rotterdam',\n",
       " 'Year of Manufacture': '1940',\n",
       " 'Original/ Replica': 'Original',\n",
       " 'Condition': 'Good condition',\n",
       " 'Comes with certificate of authenticity': 'No'}"
      ]
     },
     "execution_count": 133,
     "metadata": {},
     "output_type": "execute_result"
    }
   ],
   "source": [
    "dict((spec['name'], spec['value']) for spec in data['specifications'])"
   ]
  }
 ],
 "metadata": {
  "kernelspec": {
   "display_name": "Python 3",
   "language": "python",
   "name": "python3"
  },
  "language_info": {
   "codemirror_mode": {
    "name": "ipython",
    "version": 3
   },
   "file_extension": ".py",
   "mimetype": "text/x-python",
   "name": "python",
   "nbconvert_exporter": "python",
   "pygments_lexer": "ipython3",
   "version": "3.8.7"
  }
 },
 "nbformat": 4,
 "nbformat_minor": 5
}
