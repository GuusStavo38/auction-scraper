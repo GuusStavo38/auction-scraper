{
 "cells": [
  {
   "cell_type": "code",
   "execution_count": 24,
   "id": "frequent-dance",
   "metadata": {},
   "outputs": [],
   "source": [
    "import pandas as pd\n",
    "import sqlite3"
   ]
  },
  {
   "cell_type": "code",
   "execution_count": 35,
   "id": "therapeutic-battle",
   "metadata": {},
   "outputs": [],
   "source": [
    "conn = sqlite3.connect('../data/db.db')"
   ]
  },
  {
   "cell_type": "code",
   "execution_count": 36,
   "id": "roman-banner",
   "metadata": {},
   "outputs": [],
   "source": [
    "c = conn.cursor()"
   ]
  },
  {
   "cell_type": "code",
   "execution_count": 40,
   "id": "polyphonic-correction",
   "metadata": {},
   "outputs": [],
   "source": [
    "df = pd.read_sql_query(\"SELECT * FROM catawiki_auctions\", conn)"
   ]
  },
  {
   "cell_type": "code",
   "execution_count": 45,
   "id": "varied-object",
   "metadata": {},
   "outputs": [
    {
     "data": {
      "text/plain": [
       "'{\"Object\": \"Townplan\", \"Country (current geographical location)\": \"Netherlands\", \"Geographical specification\": \"Rotterdam\", \"Map maker/ publisher\": \"J.N. de Parival\", \"Map/ Book title\": \"Rotterdam\", \"Period\": \"1685\", \"Condition\": \"Excellent\", \"Technique\": \"Copper engraving\", \"Additional Information\": \"Detailed map of Rotterdam\", \"Size of the largest image\": \"11×13 cm\"}'"
      ]
     },
     "execution_count": 45,
     "metadata": {},
     "output_type": "execute_result"
    }
   ],
   "source": [
    "df.lot_details[0]"
   ]
  },
  {
   "cell_type": "code",
   "execution_count": 42,
   "id": "divided-purse",
   "metadata": {
    "scrolled": false
   },
   "outputs": [
    {
     "data": {
      "text/plain": [
       "[(0, 'date_created', 'DATETIME', 1, None, 0),\n",
       " (1, 'date_modified', 'DATETIME', 1, None, 0),\n",
       " (2, 'id', 'TEXT', 1, None, 1),\n",
       " (3, 'title', 'TEXT', 0, None, 0),\n",
       " (4, 'description', 'TEXT', 0, None, 0),\n",
       " (5, 'uri', 'TEXT', 0, None, 0),\n",
       " (6, 'start_time', 'DATETIME', 0, None, 0),\n",
       " (7, 'end_time', 'DATETIME', 0, None, 0),\n",
       " (8, 'n_bids', 'INTEGER', 0, None, 0),\n",
       " (9, 'currency', 'VARCHAR(3)', 0, None, 0),\n",
       " (10, 'latest_price', 'VARCHAR(16)', 0, None, 0),\n",
       " (11, 'starting_price', 'VARCHAR(16)', 0, None, 0),\n",
       " (12, 'image_urls', 'TEXT', 0, None, 0),\n",
       " (13, 'image_paths', 'TEXT', 1, None, 0),\n",
       " (14, 'subtitle', 'TEXT', 0, None, 0),\n",
       " (15, 'lot_details', 'TEXT', 0, None, 0),\n",
       " (16, 'expert_estimate_max', 'INTEGER', 0, None, 0),\n",
       " (17, 'expert_estimate_min', 'INTEGER', 0, None, 0),\n",
       " (18, 'reserve_price_met', 'BOOLEAN', 0, None, 0),\n",
       " (19, 'closed', 'BOOLEAN', 0, None, 0),\n",
       " (20, 'sold', 'BOOLEAN', 0, None, 0),\n",
       " (21, 'seller_id', 'TEXT', 0, None, 0),\n",
       " (22, 'winner_id', 'TEXT', 0, None, 0)]"
      ]
     },
     "execution_count": 42,
     "metadata": {},
     "output_type": "execute_result"
    }
   ],
   "source": [
    "c.execute(\"PRAGMA table_info('catawiki_auctions')\").fetchall()"
   ]
  },
  {
   "cell_type": "code",
   "execution_count": 22,
   "id": "mounted-mouse",
   "metadata": {
    "scrolled": true
   },
   "outputs": [
    {
     "name": "stdout",
     "output_type": "stream",
     "text": [
      "[(0,), (0,), (0,), (0,), (0,)]\n"
     ]
    }
   ],
   "source": [
    "c.execute(\"SELECT closed FROM catawiki_auctions\")\n",
    "print(c.fetchall())"
   ]
  },
  {
   "cell_type": "code",
   "execution_count": 14,
   "id": "rocky-leader",
   "metadata": {},
   "outputs": [
    {
     "name": "stdout",
     "output_type": "stream",
     "text": [
      "[('catawiki_profiles',), ('liveauctioneers_profiles',), ('ebay_profiles',), ('catawiki_auctions',), ('liveauctioneers_auctions',), ('ebay_auctions',)]\n"
     ]
    }
   ],
   "source": [
    "c.execute(\"SELECT name FROM sqlite_master WHERE type='table';\")\n",
    "print(c.fetchall())"
   ]
  }
 ],
 "metadata": {
  "kernelspec": {
   "display_name": "Python 3",
   "language": "python",
   "name": "python3"
  },
  "language_info": {
   "codemirror_mode": {
    "name": "ipython",
    "version": 3
   },
   "file_extension": ".py",
   "mimetype": "text/x-python",
   "name": "python",
   "nbconvert_exporter": "python",
   "pygments_lexer": "ipython3",
   "version": "3.8.7"
  }
 },
 "nbformat": 4,
 "nbformat_minor": 5
}
